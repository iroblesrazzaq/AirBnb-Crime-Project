{
 "cells": [
  {
   "cell_type": "code",
   "execution_count": 1,
   "metadata": {},
   "outputs": [
    {
     "name": "stderr",
     "output_type": "stream",
     "text": [
      "/var/folders/9c/4b964bn507zc652npm2l2ch80000gn/T/ipykernel_61355/3873178973.py:4: DtypeWarning: Columns (11,12,13,15,16,19) have mixed types. Specify dtype option on import or set low_memory=False.\n",
      "  dropoff_df = pd.read_csv(\"lyfts_dropoff_campus.csv\")\n",
      "/var/folders/9c/4b964bn507zc652npm2l2ch80000gn/T/ipykernel_61355/3873178973.py:5: DtypeWarning: Columns (11,12,13,15,16,19) have mixed types. Specify dtype option on import or set low_memory=False.\n",
      "  pickup_df = pd.read_csv(\"lyfts_pickup_from_campus.csv\")\n"
     ]
    }
   ],
   "source": [
    "import pandas as pd\n",
    "import numpy as np\n",
    "\n",
    "dropoff_df = pd.read_csv(\"lyfts_dropoff_campus.csv\")\n",
    "pickup_df = pd.read_csv(\"lyfts_pickup_from_campus.csv\")\n"
   ]
  },
  {
   "cell_type": "code",
   "execution_count": 5,
   "metadata": {},
   "outputs": [
    {
     "data": {
      "text/plain": [
       "Index(['trip_id', 'trip_start_timestamp', 'trip_end_timestamp', 'trip_seconds',\n",
       "       'trip_miles', 'pickup_census_tract', 'dropoff_census_tract',\n",
       "       'pickup_community_area', 'dropoff_community_area', 'fare', 'tip',\n",
       "       'additional_charges', 'trip_total', 'shared_trip_authorized',\n",
       "       'trips_pooled', 'pickup_centroid_latitude', 'pickup_centroid_longitude',\n",
       "       'pickup_centroid_location', 'dropoff_centroid_latitude',\n",
       "       'dropoff_centroid_longitude', 'dropoff_centroid_location'],\n",
       "      dtype='object')"
      ]
     },
     "execution_count": 5,
     "metadata": {},
     "output_type": "execute_result"
    }
   ],
   "source": [
    "dropoff_df.columns"
   ]
  },
  {
   "cell_type": "code",
   "execution_count": 6,
   "metadata": {},
   "outputs": [],
   "source": [
    "combined_df = pd.merge(dropoff_df, pickup_df, on=[\"trip_id\"], how='inner')"
   ]
  },
  {
   "cell_type": "code",
   "execution_count": 10,
   "metadata": {},
   "outputs": [
    {
     "name": "stdout",
     "output_type": "stream",
     "text": [
      "(777002, 21)\n",
      "(787419, 21)\n"
     ]
    },
    {
     "data": {
      "text/plain": [
       "(15192, 41)"
      ]
     },
     "execution_count": 10,
     "metadata": {},
     "output_type": "execute_result"
    }
   ],
   "source": [
    "print(dropoff_df.shape)\n",
    "print(pickup_df.shape)\n",
    "combined_df.shape"
   ]
  },
  {
   "cell_type": "code",
   "execution_count": 8,
   "metadata": {},
   "outputs": [
    {
     "data": {
      "text/plain": [
       "(15192, 41)"
      ]
     },
     "execution_count": 8,
     "metadata": {},
     "output_type": "execute_result"
    }
   ],
   "source": [
    "combined_df.shape"
   ]
  },
  {
   "cell_type": "markdown",
   "metadata": {},
   "source": [
    "with only 15000 trips in the radius, can we expand borders to include more of campus- south to north?"
   ]
  }
 ],
 "metadata": {
  "kernelspec": {
   "display_name": "venv1",
   "language": "python",
   "name": "python3"
  },
  "language_info": {
   "codemirror_mode": {
    "name": "ipython",
    "version": 3
   },
   "file_extension": ".py",
   "mimetype": "text/x-python",
   "name": "python",
   "nbconvert_exporter": "python",
   "pygments_lexer": "ipython3",
   "version": "3.11.5"
  }
 },
 "nbformat": 4,
 "nbformat_minor": 2
}
