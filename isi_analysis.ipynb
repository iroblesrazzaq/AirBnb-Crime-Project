{
 "cells": [
  {
   "cell_type": "code",
   "execution_count": 13,
   "metadata": {},
   "outputs": [],
   "source": [
    "import pandas as pd\n",
    "import numpy as np\n",
    "\n",
    "#dropoff_df = pd.read_csv(\"lyfts_dropoff_campus.csv\")\n",
    "#pickup_df = pd.read_csv(\"lyfts_pickup_from_campus.csv\")\n",
    "combined_df = pd.read_csv(\"combined_csv\")"
   ]
  },
  {
   "cell_type": "code",
   "execution_count": null,
   "metadata": {},
   "outputs": [],
   "source": []
  },
  {
   "cell_type": "code",
   "execution_count": null,
   "metadata": {},
   "outputs": [],
   "source": []
  },
  {
   "cell_type": "code",
   "execution_count": 5,
   "metadata": {},
   "outputs": [
    {
     "data": {
      "text/plain": [
       "Index(['trip_id', 'trip_start_timestamp', 'trip_end_timestamp', 'trip_seconds',\n",
       "       'trip_miles', 'pickup_census_tract', 'dropoff_census_tract',\n",
       "       'pickup_community_area', 'dropoff_community_area', 'fare', 'tip',\n",
       "       'additional_charges', 'trip_total', 'shared_trip_authorized',\n",
       "       'trips_pooled', 'pickup_centroid_latitude', 'pickup_centroid_longitude',\n",
       "       'pickup_centroid_location', 'dropoff_centroid_latitude',\n",
       "       'dropoff_centroid_longitude', 'dropoff_centroid_location'],\n",
       "      dtype='object')"
      ]
     },
     "execution_count": 5,
     "metadata": {},
     "output_type": "execute_result"
    }
   ],
   "source": [
    "dropoff_df.columns"
   ]
  },
  {
   "cell_type": "code",
   "execution_count": 6,
   "metadata": {},
   "outputs": [],
   "source": [
    "combined_df = pd.merge(dropoff_df, pickup_df, on=[\"trip_id\"], how='inner')"
   ]
  },
  {
   "cell_type": "code",
   "execution_count": 10,
   "metadata": {},
   "outputs": [
    {
     "name": "stdout",
     "output_type": "stream",
     "text": [
      "(777002, 21)\n",
      "(787419, 21)\n"
     ]
    },
    {
     "data": {
      "text/plain": [
       "(15192, 41)"
      ]
     },
     "execution_count": 10,
     "metadata": {},
     "output_type": "execute_result"
    }
   ],
   "source": [
    "print(dropoff_df.shape)\n",
    "print(pickup_df.shape)\n",
    "combined_df.shape"
   ]
  },
  {
   "cell_type": "code",
   "execution_count": 15,
   "metadata": {},
   "outputs": [
    {
     "data": {
      "text/html": [
       "<div>\n",
       "<style scoped>\n",
       "    .dataframe tbody tr th:only-of-type {\n",
       "        vertical-align: middle;\n",
       "    }\n",
       "\n",
       "    .dataframe tbody tr th {\n",
       "        vertical-align: top;\n",
       "    }\n",
       "\n",
       "    .dataframe thead th {\n",
       "        text-align: right;\n",
       "    }\n",
       "</style>\n",
       "<table border=\"1\" class=\"dataframe\">\n",
       "  <thead>\n",
       "    <tr style=\"text-align: right;\">\n",
       "      <th></th>\n",
       "      <th>trip_id</th>\n",
       "      <th>trip_start_timestamp_x</th>\n",
       "      <th>trip_end_timestamp_x</th>\n",
       "      <th>trip_seconds_x</th>\n",
       "      <th>trip_miles_x</th>\n",
       "      <th>pickup_census_tract_x</th>\n",
       "      <th>dropoff_census_tract_x</th>\n",
       "      <th>pickup_community_area_x</th>\n",
       "      <th>dropoff_community_area_x</th>\n",
       "      <th>fare_x</th>\n",
       "      <th>...</th>\n",
       "      <th>additional_charges_y</th>\n",
       "      <th>trip_total_y</th>\n",
       "      <th>shared_trip_authorized_y</th>\n",
       "      <th>trips_pooled_y</th>\n",
       "      <th>pickup_centroid_latitude_y</th>\n",
       "      <th>pickup_centroid_longitude_y</th>\n",
       "      <th>pickup_centroid_location_y</th>\n",
       "      <th>dropoff_centroid_latitude_y</th>\n",
       "      <th>dropoff_centroid_longitude_y</th>\n",
       "      <th>dropoff_centroid_location_y</th>\n",
       "    </tr>\n",
       "  </thead>\n",
       "  <tbody>\n",
       "    <tr>\n",
       "      <th>0</th>\n",
       "      <td>afe59034b00fc95aa39a9654907de6df6a3c6093</td>\n",
       "      <td>2022-10-21T17:30:00.000</td>\n",
       "      <td>2022-10-21T17:30:00.000</td>\n",
       "      <td>147.0</td>\n",
       "      <td>0.38</td>\n",
       "      <td>1.703184e+10</td>\n",
       "      <td>1.703184e+10</td>\n",
       "      <td>41.0</td>\n",
       "      <td>41.0</td>\n",
       "      <td>10.0</td>\n",
       "      <td>...</td>\n",
       "      <td>1.34</td>\n",
       "      <td>11.34</td>\n",
       "      <td>False</td>\n",
       "      <td>1.0</td>\n",
       "      <td>41.7904693995</td>\n",
       "      <td>-87.6012851221</td>\n",
       "      <td>{'type': 'Point', 'coordinates': [-87.60128512...</td>\n",
       "      <td>41.790469</td>\n",
       "      <td>-87.6012851221</td>\n",
       "      <td>{'type': 'Point', 'coordinates': [-87.60128512...</td>\n",
       "    </tr>\n",
       "    <tr>\n",
       "      <th>1</th>\n",
       "      <td>afe59034b00fc95aa39a9654907de6df6a3c6093</td>\n",
       "      <td>2022-10-21T17:30:00.000</td>\n",
       "      <td>2022-10-21T17:30:00.000</td>\n",
       "      <td>147.0</td>\n",
       "      <td>0.38</td>\n",
       "      <td>1.703184e+10</td>\n",
       "      <td>1.703184e+10</td>\n",
       "      <td>41.0</td>\n",
       "      <td>41.0</td>\n",
       "      <td>10.0</td>\n",
       "      <td>...</td>\n",
       "      <td>1.34</td>\n",
       "      <td>11.34</td>\n",
       "      <td>False</td>\n",
       "      <td>1.0</td>\n",
       "      <td>41.7904693995</td>\n",
       "      <td>-87.6012851221</td>\n",
       "      <td>{'type': 'Point', 'coordinates': [-87.60128512...</td>\n",
       "      <td>41.790469</td>\n",
       "      <td>-87.6012851221</td>\n",
       "      <td>{'type': 'Point', 'coordinates': [-87.60128512...</td>\n",
       "    </tr>\n",
       "    <tr>\n",
       "      <th>2</th>\n",
       "      <td>b42456e16e9a98bdce615f5c0230764840d46574</td>\n",
       "      <td>2022-10-18T12:30:00.000</td>\n",
       "      <td>2022-10-18T12:30:00.000</td>\n",
       "      <td>219.0</td>\n",
       "      <td>0.67</td>\n",
       "      <td>1.703184e+10</td>\n",
       "      <td>1.703184e+10</td>\n",
       "      <td>41.0</td>\n",
       "      <td>41.0</td>\n",
       "      <td>5.0</td>\n",
       "      <td>...</td>\n",
       "      <td>1.34</td>\n",
       "      <td>7.34</td>\n",
       "      <td>False</td>\n",
       "      <td>1.0</td>\n",
       "      <td>41.7904693995</td>\n",
       "      <td>-87.6012851221</td>\n",
       "      <td>{'type': 'Point', 'coordinates': [-87.60128512...</td>\n",
       "      <td>41.790469</td>\n",
       "      <td>-87.6012851221</td>\n",
       "      <td>{'type': 'Point', 'coordinates': [-87.60128512...</td>\n",
       "    </tr>\n",
       "  </tbody>\n",
       "</table>\n",
       "<p>3 rows × 41 columns</p>\n",
       "</div>"
      ],
      "text/plain": [
       "                                    trip_id   trip_start_timestamp_x  \\\n",
       "0  afe59034b00fc95aa39a9654907de6df6a3c6093  2022-10-21T17:30:00.000   \n",
       "1  afe59034b00fc95aa39a9654907de6df6a3c6093  2022-10-21T17:30:00.000   \n",
       "2  b42456e16e9a98bdce615f5c0230764840d46574  2022-10-18T12:30:00.000   \n",
       "\n",
       "      trip_end_timestamp_x  trip_seconds_x  trip_miles_x  \\\n",
       "0  2022-10-21T17:30:00.000           147.0          0.38   \n",
       "1  2022-10-21T17:30:00.000           147.0          0.38   \n",
       "2  2022-10-18T12:30:00.000           219.0          0.67   \n",
       "\n",
       "   pickup_census_tract_x  dropoff_census_tract_x  pickup_community_area_x  \\\n",
       "0           1.703184e+10            1.703184e+10                     41.0   \n",
       "1           1.703184e+10            1.703184e+10                     41.0   \n",
       "2           1.703184e+10            1.703184e+10                     41.0   \n",
       "\n",
       "   dropoff_community_area_x  fare_x  ...  additional_charges_y trip_total_y  \\\n",
       "0                      41.0    10.0  ...                  1.34        11.34   \n",
       "1                      41.0    10.0  ...                  1.34        11.34   \n",
       "2                      41.0     5.0  ...                  1.34         7.34   \n",
       "\n",
       "  shared_trip_authorized_y trips_pooled_y  pickup_centroid_latitude_y  \\\n",
       "0                    False            1.0               41.7904693995   \n",
       "1                    False            1.0               41.7904693995   \n",
       "2                    False            1.0               41.7904693995   \n",
       "\n",
       "  pickup_centroid_longitude_y  \\\n",
       "0              -87.6012851221   \n",
       "1              -87.6012851221   \n",
       "2              -87.6012851221   \n",
       "\n",
       "                          pickup_centroid_location_y  \\\n",
       "0  {'type': 'Point', 'coordinates': [-87.60128512...   \n",
       "1  {'type': 'Point', 'coordinates': [-87.60128512...   \n",
       "2  {'type': 'Point', 'coordinates': [-87.60128512...   \n",
       "\n",
       "  dropoff_centroid_latitude_y  dropoff_centroid_longitude_y  \\\n",
       "0                   41.790469                -87.6012851221   \n",
       "1                   41.790469                -87.6012851221   \n",
       "2                   41.790469                -87.6012851221   \n",
       "\n",
       "                         dropoff_centroid_location_y  \n",
       "0  {'type': 'Point', 'coordinates': [-87.60128512...  \n",
       "1  {'type': 'Point', 'coordinates': [-87.60128512...  \n",
       "2  {'type': 'Point', 'coordinates': [-87.60128512...  \n",
       "\n",
       "[3 rows x 41 columns]"
      ]
     },
     "execution_count": 15,
     "metadata": {},
     "output_type": "execute_result"
    }
   ],
   "source": [
    "combined_df.head(3)"
   ]
  },
  {
   "cell_type": "markdown",
   "metadata": {},
   "source": [
    "with only 15000 trips in the radius, can we expand borders to include more of campus- south to north?"
   ]
  }
 ],
 "metadata": {
  "kernelspec": {
   "display_name": "venv1",
   "language": "python",
   "name": "python3"
  },
  "language_info": {
   "codemirror_mode": {
    "name": "ipython",
    "version": 3
   },
   "file_extension": ".py",
   "mimetype": "text/x-python",
   "name": "python",
   "nbconvert_exporter": "python",
   "pygments_lexer": "ipython3",
   "version": "3.11.5"
  }
 },
 "nbformat": 4,
 "nbformat_minor": 2
}
